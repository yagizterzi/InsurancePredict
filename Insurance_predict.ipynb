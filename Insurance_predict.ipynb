{
 "cells": [
  {
   "cell_type": "markdown",
   "metadata": {},
   "source": [
    "# Import Required Libraries\n",
    "Import the necessary libraries, including pandas, numpy, matplotlib, statsmodels, sklearn, and Prophet."
   ]
  },
  {
   "cell_type": "code",
   "execution_count": null,
   "metadata": {},
   "outputs": [],
   "source": [
    "# Import the necessary libraries\n",
    "import pandas as pd  # For data manipulation and analysis\n",
    "import numpy as np  # For numerical operations\n",
    "import matplotlib.pyplot as plt  # For plotting graphs\n",
    "import statsmodels.api as sm  # For statistical models\n",
    "from sklearn.metrics import mean_squared_error  # For calculating mean squared error\n",
    "from prophet import Prophet  # For time series forecasting"
   ]
  },
  {
   "cell_type": "markdown",
   "metadata": {},
   "source": [
    "# Load and Clean Data\n",
    "Load the CSV files, rename columns, drop rows with all NaN values, clean numeric columns, and convert the 'Period' column to datetime."
   ]
  },
  {
   "cell_type": "code",
   "execution_count": null,
   "metadata": {},
   "outputs": [],
   "source": [
    "# List of file paths to be processed\n",
    "files = [\n",
    "    r'C:\\Users\\yagiz\\OneDrive\\Masaüstü\\Uygulamalar\\kodlar\\insurance\\Kasko 2019 2023.csv',\n",
    "    r'C:\\Users\\yagiz\\OneDrive\\Masaüstü\\Uygulamalar\\kodlar\\insurance\\Kasko_2013-2018.csv'\n",
    "]\n",
    "\n",
    "# Function to clean and prepare each file\n",
    "def clean_file(file_path):\n",
    "    # Load the file\n",
    "    df = pd.read_csv(file_path)\n",
    "\n",
    "    # Rename columns for clarity\n",
    "    df.columns = [\n",
    "        \"Period\",\n",
    "        \"Gross_Written_Premium_TL\",\n",
    "        \"Gross_Increase_Rate\",\n",
    "        \"Net_Written_Premium_TL\",\n",
    "        \"Net_Increase_Rate\",\n",
    "        \"Net_Earned_Premium_TL\",\n",
    "        \"Earned_Increase_Rate\",\n",
    "        \"Net_Realized_Loss_TL\",\n",
    "        \"Loss_Increase_Rate\",\n",
    "        \"Technical_Profit_TL\",\n",
    "        \"Technical_Profit_Increase_Rate\",\n",
    "        \"Net_Loss_Premium_Rate\",\n",
    "        \"Combined_Ratio\"\n",
    "    ]\n",
    "\n",
    "    # Drop rows with all NaN values\n",
    "    df = df.dropna(how='all').reset_index(drop=True)\n",
    "\n",
    "    # Clean numeric columns\n",
    "    numeric_columns = [\n",
    "        \"Gross_Written_Premium_TL\",\n",
    "        \"Gross_Increase_Rate\",\n",
    "        \"Net_Written_Premium_TL\",\n",
    "        \"Net_Increase_Rate\",\n",
    "        \"Net_Earned_Premium_TL\",\n",
    "        \"Earned_Increase_Rate\",\n",
    "        \"Net_Realized_Loss_TL\",\n",
    "        \"Loss_Increase_Rate\",\n",
    "        \"Technical_Profit_TL\",\n",
    "        \"Technical_Profit_Increase_Rate\",\n",
    "        \"Net_Loss_Premium_Rate\",\n",
    "        \"Combined_Ratio\"\n",
    "    ]\n",
    "\n",
    "    for col in numeric_columns:\n",
    "        df[col] = (\n",
    "            df[col]\n",
    "            .astype(str)\n",
    "            .str.replace(r\"[^\\d.,()-]\", \"\", regex=True)  # Remove non-numeric characters\n",
    "            .str.replace(\",\", \"\", regex=False)  # Remove commas\n",
    "            .str.replace(r\"\\((.*?)\\)\", r\"-\\1\", regex=True)  # Convert parentheses to negative sign\n",
    "        )\n",
    "        df[col] = pd.to_numeric(df[col], errors='coerce')  # Convert to numeric\n",
    "\n",
    "    # Convert \"Period\" to datetime\n",
    "    df[\"Period\"] = pd.to_datetime(df[\"Period\"], format='%Y', errors='coerce')\n",
    "\n",
    "    return df\n",
    "\n",
    "# Process and combine all files\n",
    "dataframes = [clean_file(file) for file in files]\n",
    "combined_data = pd.concat(dataframes, ignore_index=True)\n",
    "\n",
    "# Set \"Period\" as the index and sort\n",
    "combined_data = combined_data.set_index(\"Period\").sort_index()\n",
    "\n",
    "# Fill missing values (forward fill)\n",
    "combined_data = combined_data.ffill()\n",
    "\n",
    "# Ensure no NaN or infinite values\n",
    "combined_data = combined_data.replace([np.inf, -np.inf], np.nan).dropna()\n",
    "\n",
    "# Remove rows where the index is NaT\n",
    "combined_data = combined_data[combined_data.index.notna()]\n",
    "\n",
    "combined_data.head()  # Display the first few rows of the cleaned data"
   ]
  },
  {
   "cell_type": "markdown",
   "metadata": {},
   "source": [
    "# Combine Data from Multiple Files\n",
    "Combine the cleaned data from multiple files into a single DataFrame, set 'Period' as the index, sort the index, and fill missing values."
   ]
  },
  {
   "cell_type": "code",
   "execution_count": null,
   "metadata": {},
   "outputs": [],
   "source": [
    "# Combine Data from Multiple Files\n",
    "\n",
    "# Process and combine all files\n",
    "dataframes = [clean_file(file) for file in files]\n",
    "\n",
    "# Concatenate all dataframes into a single dataframe\n",
    "combined_data = pd.concat(dataframes, ignore_index=True)\n",
    "\n",
    "# Set \"Period\" as the index and sort the index\n",
    "combined_data = combined_data.set_index(\"Period\").sort_index()\n",
    "\n",
    "# Fill missing values using forward fill method\n",
    "combined_data = combined_data.ffill()\n",
    "\n",
    "# Replace infinite values with NaN and drop rows with NaN values\n",
    "combined_data = combined_data.replace([np.inf, -np.inf], np.nan).dropna()\n",
    "\n",
    "# Remove rows where the index is NaT (Not a Time)\n",
    "combined_data = combined_data[combined_data.index.notna()]\n",
    "\n",
    "# Display the first few rows of the combined data\n",
    "combined_data.head()"
   ]
  },
  {
   "cell_type": "markdown",
   "metadata": {},
   "source": [
    "# Plot Initial Data\n",
    "Plot the initial data to visualize the Gross Written Premium, Net Written Premium, and Technical Profit over the years."
   ]
  },
  {
   "cell_type": "code",
   "execution_count": null,
   "metadata": {},
   "outputs": [],
   "source": [
    "# Plot Initial Data\n",
    "\n",
    "# Plot the initial data to visualize the Gross Written Premium, Net Written Premium, and Technical Profit over the years.\n",
    "plt.figure(figsize=(14, 7))\n",
    "\n",
    "# Plot Gross Written Premium\n",
    "plt.plot(combined_data.index, combined_data['Gross_Written_Premium_TL'] / 10**9, label='Gross Written Premium TL (in billions)')\n",
    "\n",
    "# Plot Net Written Premium\n",
    "plt.plot(combined_data.index, combined_data['Net_Written_Premium_TL'] / 10**9, label='Net Written Premium TL (in billions)')\n",
    "\n",
    "# Plot Technical Profit\n",
    "plt.plot(combined_data.index, combined_data['Technical_Profit_TL'] / 10**9, label='Technical Profit TL (in billions)')\n",
    "\n",
    "# Add labels and title\n",
    "plt.xlabel('Year')\n",
    "plt.ylabel('Amount (in billions TL)')\n",
    "plt.title('Yearly Gross Written Premium, Net Written Premium, and Technical Profit')\n",
    "\n",
    "# Add legend\n",
    "plt.legend()\n",
    "\n",
    "# Show plot\n",
    "plt.show()"
   ]
  },
  {
   "cell_type": "markdown",
   "metadata": {},
   "source": [
    "# Prepare Data for Prophet\n",
    "Prepare the data for Prophet by resetting the index and renaming columns to 'ds' and 'y'."
   ]
  },
  {
   "cell_type": "code",
   "execution_count": null,
   "metadata": {},
   "outputs": [],
   "source": [
    "# Prepare Data for Prophet\n",
    "\n",
    "# Reset the index and rename columns to 'ds' and 'y' for Prophet\n",
    "prophet_data = combined_data.reset_index()[['Period', 'Technical_Profit_TL']]\n",
    "prophet_data.columns = ['ds', 'y']\n",
    "\n",
    "# Display the first few rows of the prepared data for Prophet\n",
    "prophet_data.head()"
   ]
  },
  {
   "cell_type": "markdown",
   "metadata": {},
   "source": [
    "# Fit Prophet Model\n",
    "Initialize and fit the Prophet model using the prepared data."
   ]
  },
  {
   "cell_type": "code",
   "execution_count": null,
   "metadata": {},
   "outputs": [],
   "source": [
    "# Fit Prophet Model\n",
    "\n",
    "# Initialize the Prophet model\n",
    "model = Prophet()\n",
    "\n",
    "# Fit the model with the prepared data\n",
    "model.fit(prophet_data)\n",
    "\n",
    "# Create a dataframe for future dates (5 years into the future)\n",
    "future = model.make_future_dataframe(periods=5*12, freq='MS')\n",
    "\n",
    "# Predict future values\n",
    "forecast = model.predict(future)\n",
    "\n",
    "# Plot the forecast\n",
    "fig = model.plot(forecast)\n",
    "plt.title('Technical Profit Forecast with Uncertainty Intervals')\n",
    "plt.xlabel('Year')\n",
    "plt.ylabel('Technical Profit TL (in billions)')\n",
    "plt.show()\n",
    "\n",
    "# Plot the forecast components\n",
    "fig2 = model.plot_components(forecast)\n",
    "plt.show()"
   ]
  },
  {
   "cell_type": "markdown",
   "metadata": {},
   "source": [
    "# Forecast Future Data\n",
    "Create a future DataFrame for 5 years, make predictions using the Prophet model, and plot the forecast results."
   ]
  },
  {
   "cell_type": "code",
   "execution_count": null,
   "metadata": {},
   "outputs": [],
   "source": [
    "# Forecast Future Data\n",
    "\n",
    "# Create a future DataFrame for 5 years, make predictions using the Prophet model, and plot the forecast results.\n",
    "\n",
    "# Create a dataframe for future dates (5 years into the future)\n",
    "future = model.make_future_dataframe(periods=5*12, freq='MS')\n",
    "\n",
    "# Predict future values\n",
    "forecast = model.predict(future)\n",
    "\n",
    "# Plot the forecast\n",
    "fig = model.plot(forecast)\n",
    "plt.title('Technical Profit Forecast with Uncertainty Intervals')\n",
    "plt.xlabel('Year')\n",
    "plt.ylabel('Technical Profit TL (in billions)')\n",
    "plt.show()\n",
    "\n",
    "# Plot the forecast components\n",
    "fig2 = model.plot_components(forecast)\n",
    "plt.show()\n",
    "\n",
    "# Plot the forecasted data in billions\n",
    "plt.figure(figsize=(14, 7))\n",
    "plt.plot(forecast['ds'], forecast['yhat'] / 10**9, label='Forecasted Technical Profit TL (in billions)')\n",
    "plt.fill_between(forecast['ds'], forecast['yhat_lower'] / 10**9, forecast['yhat_upper'] / 10**9, color='gray', alpha=0.2, label='Uncertainty Interval')\n",
    "plt.xlabel('Year')\n",
    "plt.ylabel('Technical Profit TL (in billions)')\n",
    "plt.title('Forecasted Technical Profit with Uncertainty Intervals')\n",
    "plt.legend()\n",
    "plt.show()"
   ]
  },
  {
   "cell_type": "markdown",
   "metadata": {},
   "source": [
    "# Plot Forecast Results\n",
    "Plot the forecasted Technical Profit with uncertainty intervals and the forecast components."
   ]
  },
  {
   "cell_type": "code",
   "execution_count": null,
   "metadata": {},
   "outputs": [],
   "source": [
    "# Plot Forecast Results\n",
    "\n",
    "# Plot the forecasted data in billions\n",
    "plt.figure(figsize=(14, 7))\n",
    "plt.plot(forecast['ds'], forecast['yhat'] / 10**9, label='Forecasted Technical Profit TL (in billions)')\n",
    "plt.fill_between(forecast['ds'], forecast['yhat_lower'] / 10**9, forecast['yhat_upper'] / 10**9, color='gray', alpha=0.2, label='Uncertainty Interval')\n",
    "plt.xlabel('Year')\n",
    "plt.ylabel('Technical Profit TL (in billions)')\n",
    "plt.title('Forecasted Technical Profit with Uncertainty Intervals')\n",
    "plt.legend()\n",
    "plt.show()\n",
    "\n",
    "# Plot the forecast components\n",
    "fig2 = model.plot_components(forecast)\n",
    "plt.show()"
   ]
  },
  {
   "cell_type": "markdown",
   "metadata": {},
   "source": [
    "# Calculate and Plot Mean Squared Error (MSE)\n",
    "Calculate the Mean Squared Error (MSE) between the actual and predicted Technical Profit, and plot the actual vs predicted data with the MSE."
   ]
  },
  {
   "cell_type": "code",
   "execution_count": null,
   "metadata": {},
   "outputs": [],
   "source": [
    "# Calculate and Plot Mean Squared Error (MSE)\n",
    "\n",
    "# Ensure the actual data and forecast data are aligned\n",
    "actual = prophet_data.set_index('ds')['y']\n",
    "predicted = forecast.set_index('ds')['yhat']\n",
    "common_dates = actual.index.intersection(predicted.index)\n",
    "actual_common = actual.loc[common_dates]\n",
    "predicted_common = predicted.loc[common_dates]\n",
    "\n",
    "# Ensure the lengths are consistent\n",
    "if len(actual_common) > len(predicted_common):\n",
    "    actual_common = actual_common.iloc[:len(predicted_common)]\n",
    "elif len(predicted_common) > len(actual_common):\n",
    "    predicted_common = predicted_common.iloc[:len(actual_common)]\n",
    "\n",
    "# Calculate Mean Squared Error (MSE)\n",
    "mse = mean_squared_error(actual_common, predicted_common)\n",
    "\n",
    "# Plot the actual vs predicted data with MSE\n",
    "plt.figure(figsize=(14, 7))\n",
    "plt.plot(common_dates, actual_common / 10**9, label='Actual Technical Profit TL (in billions)')\n",
    "plt.plot(common_dates, predicted_common / 10**9, label='Predicted Technical Profit TL (in billions)')\n",
    "plt.xlabel('Year')\n",
    "plt.ylabel('Technical Profit TL (in billions)')\n",
    "plt.title(f'Mean Squared Error: {mse:.2f}')\n",
    "plt.legend()\n",
    "plt.show()"
   ]
  }
 ],
 "metadata": {
  "kernelspec": {
   "display_name": "Python 3",
   "language": "python",
   "name": "python3"
  },
  "language_info": {
   "name": "python",
   "version": "3.11.9"
  }
 },
 "nbformat": 4,
 "nbformat_minor": 2
}
